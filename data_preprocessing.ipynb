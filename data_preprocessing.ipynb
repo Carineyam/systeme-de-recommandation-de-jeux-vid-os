{
 "cells": [
  {
   "cell_type": "code",
   "execution_count": 2,
   "metadata": {},
   "outputs": [
    {
     "name": "stdout",
     "output_type": "stream",
     "text": [
      "Defaulting to user installation because normal site-packages is not writeable\n",
      "Collecting lightfm\n",
      "  Downloading lightfm-1.16.tar.gz (310 kB)\n",
      "     ------------------------------------ 310.1/310.1 kB 399.9 kB/s eta 0:00:00\n",
      "  Preparing metadata (setup.py): started\n",
      "  Preparing metadata (setup.py): finished with status 'done'\n",
      "Requirement already satisfied: numpy in c:\\users\\pc\\appdata\\roaming\\python\\python39\\site-packages (from lightfm) (1.21.6)\n",
      "Requirement already satisfied: scipy>=0.17.0 in c:\\users\\pc\\appdata\\roaming\\python\\python39\\site-packages (from lightfm) (1.9.3)\n",
      "Note: you may need to restart the kernel to use updated packages.Requirement already satisfied: requests in e:\\ai_programs\\anaconda3\\lib\\site-packages (from lightfm) (2.27.1)\n",
      "Requirement already satisfied: scikit-learn in c:\\users\\pc\\appdata\\roaming\\python\\python39\\site-packages (from lightfm) (1.1.2)\n",
      "Requirement already satisfied: urllib3<1.27,>=1.21.1 in c:\\users\\pc\\appdata\\roaming\\python\\python39\\site-packages (from requests->lightfm) (1.26.12)\n",
      "Requirement already satisfied: certifi>=2017.4.17 in e:\\ai_programs\\anaconda3\\lib\\site-packages (from requests->lightfm) (2021.10.8)\n",
      "\n"
     ]
    },
    {
     "name": "stderr",
     "output_type": "stream",
     "text": [
      "WARNING: Ignoring invalid distribution -pencv-python (c:\\users\\pc\\appdata\\roaming\\python\\python39\\site-packages)\n",
      "WARNING: Ignoring invalid distribution -pencv-python (c:\\users\\pc\\appdata\\roaming\\python\\python39\\site-packages)\n",
      "WARNING: Ignoring invalid distribution -pencv-python (c:\\users\\pc\\appdata\\roaming\\python\\python39\\site-packages)\n",
      "WARNING: Ignoring invalid distribution -pencv-python (c:\\users\\pc\\appdata\\roaming\\python\\python39\\site-packages)\n",
      "WARNING: Ignoring invalid distribution -pencv-python (c:\\users\\pc\\appdata\\roaming\\python\\python39\\site-packages)\n",
      "WARNING: Ignoring invalid distribution -pencv-python (c:\\users\\pc\\appdata\\roaming\\python\\python39\\site-packages)\n",
      "WARNING: Ignoring invalid distribution -pencv-python (c:\\users\\pc\\appdata\\roaming\\python\\python39\\site-packages)\n"
     ]
    },
    {
     "name": "stdout",
     "output_type": "stream",
     "text": [
      "Requirement already satisfied: charset-normalizer~=2.0.0 in e:\\ai_programs\\anaconda3\\lib\\site-packages (from requests->lightfm) (2.0.4)\n",
      "Requirement already satisfied: idna<4,>=2.5 in e:\\ai_programs\\anaconda3\\lib\\site-packages (from requests->lightfm) (3.3)\n",
      "Requirement already satisfied: joblib>=1.0.0 in c:\\users\\pc\\appdata\\roaming\\python\\python39\\site-packages (from scikit-learn->lightfm) (1.2.0)\n",
      "Requirement already satisfied: threadpoolctl>=2.0.0 in c:\\users\\pc\\appdata\\roaming\\python\\python39\\site-packages (from scikit-learn->lightfm) (3.1.0)\n",
      "Building wheels for collected packages: lightfm\n",
      "  Building wheel for lightfm (setup.py): started\n",
      "  Building wheel for lightfm (setup.py): finished with status 'done'\n",
      "  Created wheel for lightfm: filename=lightfm-1.16-cp39-cp39-win_amd64.whl size=421262 sha256=95edd7c5b07faec896bea7096edd6d81b21b12d572ee0dd75f9bb9592540e919\n",
      "  Stored in directory: c:\\users\\pc\\appdata\\local\\pip\\cache\\wheels\\b5\\0d\\a5\\aed8bf2edc20773ee85f7eeb108d6babf2732675c0d6170aaa\n",
      "Successfully built lightfm\n",
      "Installing collected packages: lightfm\n",
      "Successfully installed lightfm-1.16\n"
     ]
    }
   ],
   "source": [
    "pip install lightfm"
   ]
  },
  {
   "cell_type": "code",
   "execution_count": 2,
   "metadata": {},
   "outputs": [
    {
     "name": "stdout",
     "output_type": "stream",
     "text": [
      "Defaulting to user installation because normal site-packages is not writeable\n",
      "Collecting psycopg2\n",
      "  Downloading psycopg2-2.9.5-cp39-cp39-win_amd64.whl (1.2 MB)\n",
      "     ---------------------------------------- 1.2/1.2 MB 550.8 kB/s eta 0:00:00\n",
      "Installing collected packages: psycopg2\n",
      "Successfully installed psycopg2-2.9.5\n",
      "Note: you may need to restart the kernel to use updated packages.\n"
     ]
    },
    {
     "name": "stderr",
     "output_type": "stream",
     "text": [
      "WARNING: Ignoring invalid distribution -pencv-python (c:\\users\\pc\\appdata\\roaming\\python\\python39\\site-packages)\n",
      "WARNING: Ignoring invalid distribution -pencv-python (c:\\users\\pc\\appdata\\roaming\\python\\python39\\site-packages)\n",
      "WARNING: Ignoring invalid distribution -pencv-python (c:\\users\\pc\\appdata\\roaming\\python\\python39\\site-packages)\n",
      "WARNING: Ignoring invalid distribution -pencv-python (c:\\users\\pc\\appdata\\roaming\\python\\python39\\site-packages)\n",
      "WARNING: Ignoring invalid distribution -pencv-python (c:\\users\\pc\\appdata\\roaming\\python\\python39\\site-packages)\n",
      "WARNING: Ignoring invalid distribution -pencv-python (c:\\users\\pc\\appdata\\roaming\\python\\python39\\site-packages)\n",
      "WARNING: Ignoring invalid distribution -pencv-python (c:\\users\\pc\\appdata\\roaming\\python\\python39\\site-packages)\n"
     ]
    }
   ],
   "source": [
    "pip install psycopg2"
   ]
  },
  {
   "cell_type": "code",
   "execution_count": 3,
   "metadata": {},
   "outputs": [],
   "source": [
    "import pandas as pd\n",
    "import psycopg2\n",
    "from sqlalchemy import create_engine\n",
    "\n",
    "\n",
    "def create_sqlalchemy_connection(conn_str_file):\n",
    "    sqlalchemy_conn_str = open(conn_str_file,'r').read()\n",
    "    sqlalchemy_conn = create_engine(sqlalchemy_conn_str)\n",
    "    return sqlalchemy_conn\n",
    "\n",
    "def query_best_parameters(conn_str_file, model_number=None):\n",
    "    sqlalchemy_conn = create_sqlalchemy_connection(conn_str_file)\n",
    "    if model_number != None:\n",
    "        best_parameters = pd.read_sql('SELECT * FROM validation_metrics WHERE model_number = {} ORDER BY auc DESC LIMIT 1'.format(str(model_number)), \n",
    "                                  sqlalchemy_conn).to_dict(orient='records')[0]\n",
    "    if model_number == None:\n",
    "        best_parameters = pd.read_sql('SELECT * FROM validation_metrics ORDER BY auc DESC LIMIT 1'.format(str(model_number)), \n",
    "                                  sqlalchemy_conn).to_dict(orient='records')[0]\n",
    "    del best_parameters['index']\n",
    "    del best_parameters['auc']\n",
    "    del best_parameters['epochs']\n",
    "    del best_parameters['model_number']\n",
    "    del best_parameters['free']\n",
    "    return best_parameters"
   ]
  },
  {
   "cell_type": "code",
   "execution_count": 4,
   "metadata": {},
   "outputs": [
    {
     "name": "stderr",
     "output_type": "stream",
     "text": [
      "C:\\Users\\pc\\AppData\\Roaming\\Python\\Python39\\site-packages\\lightfm\\_lightfm_fast.py:9: UserWarning: LightFM was compiled without OpenMP support. Only a single thread will be used.\n",
      "  warnings.warn(\n"
     ]
    }
   ],
   "source": [
    "import json\n",
    "import pickle as pkl\n",
    "import operator\n",
    "import time\n",
    "from collections import Counter\n",
    "from itertools import product\n",
    "import random\n",
    "\n",
    "import pandas as pd\n",
    "from pandas.io.json import json_normalize\n",
    "import numpy as np\n",
    "import scipy\n",
    "from scipy.sparse import csr_matrix\n",
    "from sklearn.model_selection import train_test_split, StratifiedKFold\n",
    "\n",
    "from lightfm import LightFM\n",
    "from lightfm.evaluation import precision_at_k\n",
    "from lightfm.evaluation import recall_at_k\n",
    "from lightfm.evaluation import auc_score\n",
    "from lightfm.evaluation import reciprocal_rank\n",
    "\n",
    "\"\"\"%run '../lib/cookbook/recsys.py'\n",
    "%run '../lib/cookbook/generic_preprocessing.py'\n",
    "%run '../lib/utility.py'\"\"\"\n",
    "\n",
    "from IPython.display import HTML ## Setting display options for Ipython Notebook"
   ]
  },
  {
   "cell_type": "code",
   "execution_count": 8,
   "metadata": {},
   "outputs": [],
   "source": [
    "import json\n",
    "\n",
    "def eval_and_redump(text):\n",
    "    file = open('../data/'+text+'.json','r',encoding=\"utf8\")\n",
    "    write = open('../data/'+text+'_fixed.json','w',encoding=\"utf8\")\n",
    "    array = []\n",
    "    for line in file:\n",
    "        line_dict = eval(line)\n",
    "        array.append(line_dict)\n",
    "    json.dump(array,write)\n",
    "    return None\n",
    "\n",
    "\n",
    "eval_and_redump('australian_user_reviews')\n",
    "eval_and_redump('australian_users_items')\n",
    "eval_and_redump('bundle_data')\n",
    "eval_and_redump('steam_new')\n",
    "eval_and_redump('steam_games')\n"
   ]
  },
  {
   "cell_type": "markdown",
   "metadata": {},
   "source": [
    "# Data Preprocessing"
   ]
  },
  {
   "cell_type": "code",
   "execution_count": 5,
   "metadata": {},
   "outputs": [],
   "source": [
    "def filter_by_hours_played(path,minutes_played=None,percentile=None):\n",
    "    with open(path) as f:\n",
    "        df_items = json.load(f)    \n",
    "    parsed_items = json_normalize(data=df_items, \n",
    "                                  record_path='items', \n",
    "                                  meta=['items_count','steam_id','user_id','user_url'])\n",
    "    if minutes_played != None:\n",
    "        parsed_items = parsed_items[parsed_items.playtime_forever > minutes_played]\n",
    "    if percentile != None:\n",
    "        quantiles = parsed_items.groupby('item_name')['playtime_forever'].quantile(q=percentile)\n",
    "        parsed_items = pd.merge(parsed_items, pd.DataFrame(quantiles), how='left', left_on='item_name', right_index=True)\n",
    "        parsed_items = parsed_items.loc[parsed_items['playtime_forever_x'] > parsed_items['playtime_forever_y']]\n",
    "    return parsed_items"
   ]
  },
  {
   "cell_type": "code",
   "execution_count": 6,
   "metadata": {},
   "outputs": [],
   "source": [
    "def isNaN(num):\n",
    "   return num != num\n",
    "\n",
    "def cleanup_price(price):\n",
    "   if isinstance(price, str):\n",
    "       if price.find(\"Free\") > 0 or price.find(\"Demo\") > 0:\n",
    "           return 0\n",
    "   elif isNaN(price) == True:\n",
    "       return 0\n",
    "   else:\n",
    "       return round(price)"
   ]
  },
  {
   "cell_type": "code",
   "execution_count": 7,
   "metadata": {},
   "outputs": [],
   "source": [
    "def build_list(df, games, free_games=False):\n",
    "    game_ids = []\n",
    "    if free_games == False:\n",
    "        game_ids = []\n",
    "        for i in games:\n",
    "            if 'price' in i.keys() and 'id' in i.keys():\n",
    "                price = cleanup_price(i['price'])\n",
    "                if price != None and price > 0:\n",
    "                   game_ids.append(i['id'])\n",
    "        df = df.loc[df['item_id'].isin(game_ids)]\n",
    "        user_items = df[['user_id','item_name']].values.tolist()\n",
    "    if free_games == True:\n",
    "        for i in games:\n",
    "            if 'id' in i.keys():\n",
    "                game_ids.append(i['id'])\n",
    "        df = df.loc[df['item_id'].isin(game_ids)]\n",
    "        user_items = df[['user_id','item_name']].values.tolist()\n",
    "    return user_items, game_ids"
   ]
  },
  {
   "cell_type": "code",
   "execution_count": 8,
   "metadata": {},
   "outputs": [],
   "source": [
    "def build_df(user_item):\n",
    "    df = pd.DataFrame(user_item[0],columns=['user','item'])\n",
    "    df = df.drop_duplicates(['user','item'])\n",
    "    df['own'] = 1\n",
    "    df = df.pivot(index='user',columns='item',values='own')\n",
    "    df = df.fillna(0)\n",
    "    return df"
   ]
  },
  {
   "cell_type": "code",
   "execution_count": 9,
   "metadata": {},
   "outputs": [],
   "source": [
    "## Filter by most owned games\n",
    "\n",
    "def filter_top_n(user_item_df, n=1000):\n",
    "    top_n = user_item_df.sum().nlargest(n).index\n",
    "    user_top_ngames = user_item_df[top_n].stack().reset_index()\n",
    "    user_top_ngames = user_top_ngames.rename(columns={0:'rating'})\n",
    "    return user_top_ngames"
   ]
  },
  {
   "cell_type": "code",
   "execution_count": 10,
   "metadata": {},
   "outputs": [],
   "source": [
    "def list_games(user_item_df):\n",
    "    games=pd.DataFrame()\n",
    "    games['item']=user_item_df.item.drop_duplicates()\n",
    "    return games"
   ]
  },
  {
   "cell_type": "code",
   "execution_count": 11,
   "metadata": {},
   "outputs": [],
   "source": [
    "def filter_top_n_for_filtered(user_item_df, games):\n",
    "    for column in games.item:\n",
    "        if column not in user_item_df.columns:\n",
    "            user_item_df[column] = 0.0\n",
    "    return filter_top_n(user_item_df[games['item'].tolist()],10000)"
   ]
  },
  {
   "cell_type": "code",
   "execution_count": 12,
   "metadata": {},
   "outputs": [
    {
     "name": "stderr",
     "output_type": "stream",
     "text": [
      "C:\\Users\\pc\\AppData\\Local\\Temp\\ipykernel_16832\\3791230762.py:4: FutureWarning: pandas.io.json.json_normalize is deprecated, use pandas.json_normalize instead.\n",
      "  parsed_items = json_normalize(data=df_items,\n",
      "C:\\Users\\pc\\AppData\\Local\\Temp\\ipykernel_16832\\3791230762.py:4: FutureWarning: pandas.io.json.json_normalize is deprecated, use pandas.json_normalize instead.\n",
      "  parsed_items = json_normalize(data=df_items,\n",
      "C:\\Users\\pc\\AppData\\Local\\Temp\\ipykernel_16832\\3791230762.py:4: FutureWarning: pandas.io.json.json_normalize is deprecated, use pandas.json_normalize instead.\n",
      "  parsed_items = json_normalize(data=df_items,\n",
      "C:\\Users\\pc\\AppData\\Local\\Temp\\ipykernel_16832\\3791230762.py:4: FutureWarning: pandas.io.json.json_normalize is deprecated, use pandas.json_normalize instead.\n",
      "  parsed_items = json_normalize(data=df_items,\n"
     ]
    }
   ],
   "source": [
    "filtered_hours_items = filter_by_hours_played('../data/australian_users_items_fixed.json', minutes_played=30)\n",
    "filtered_hours_0_items = filter_by_hours_played('../data/australian_users_items_fixed.json', minutes_played=0)\n",
    "filtered_percentile_items = filter_by_hours_played('../data/australian_users_items_fixed.json', percentile=0.10)\n",
    "full_aussie_items = filter_by_hours_played('../data/australian_users_items_fixed.json')\n",
    "aussie_reviews = json.load(open('../data/australian_user_reviews_fixed.json','r'))\n",
    "steam_games = json.load(open('../data/steam_games_fixed.json','r'))"
   ]
  },
  {
   "cell_type": "markdown",
   "metadata": {},
   "source": [
    "### All Games"
   ]
  },
  {
   "cell_type": "code",
   "execution_count": 13,
   "metadata": {},
   "outputs": [],
   "source": [
    "filtered_hours_user_item = build_list(filtered_hours_items, steam_games, free_games=True)\n",
    "filtered_hours_0_user_items = build_list(filtered_hours_0_items, steam_games, free_games=True)\n",
    "filtered_percentile_user_item = build_list(filtered_percentile_items, steam_games, free_games=True)\n",
    "full_user_item = build_list(full_aussie_items, steam_games, free_games=True)"
   ]
  },
  {
   "cell_type": "code",
   "execution_count": 14,
   "metadata": {},
   "outputs": [],
   "source": [
    "filtered_hours_user_item_df = build_df(filtered_hours_user_item)\n",
    "filtered_hours_0_user_item_df = build_df(filtered_hours_0_user_items)\n",
    "filtered_percentile_user_item_df = build_df(filtered_percentile_user_item)\n",
    "full_user_item_df = build_df(full_user_item)"
   ]
  },
  {
   "cell_type": "code",
   "execution_count": 15,
   "metadata": {},
   "outputs": [],
   "source": [
    "user_top_games = filter_top_n(full_user_item_df,1000)\n",
    "games = list_games(user_top_games)\n",
    "user_top_games_filtered_hours = filter_top_n_for_filtered(filtered_hours_user_item_df, games)\n",
    "user_top_games_filtered_hours_0 = filter_top_n_for_filtered(filtered_hours_0_user_item_df, games)\n",
    "user_top_games_filtered_percentile = filter_top_n_for_filtered(filtered_percentile_user_item_df, games)"
   ]
  },
  {
   "cell_type": "code",
   "execution_count": 16,
   "metadata": {},
   "outputs": [],
   "source": [
    "pkl.dump(user_top_games,open('../data/preprocessed_data/all_games/user_top_games.pkl', 'wb'))\n",
    "pkl.dump(user_top_games_filtered_hours,open('../data/preprocessed_data/all_games/user_top_games_filtered_hours.pkl', 'wb'))\n",
    "pkl.dump(user_top_games_filtered_hours_0,open('../data/preprocessed_data/all_games/user_top_games_filtered_hours_0.pkl', 'wb'))\n",
    "pkl.dump(user_top_games_filtered_percentile,open('../data/preprocessed_data/all_games/user_top_games_filtered_percentile.pkl', 'wb'))\n",
    "pkl.dump(games,open('../data/preprocessed_data/all_games/games.pkl', 'wb'))"
   ]
  },
  {
   "cell_type": "markdown",
   "metadata": {},
   "source": [
    "### No Free Games"
   ]
  },
  {
   "cell_type": "code",
   "execution_count": 17,
   "metadata": {},
   "outputs": [],
   "source": [
    "filtered_hours_user_item = build_list(filtered_hours_items, steam_games, free_games=False)\n",
    "filtered_hours_0_user_items = build_list(filtered_hours_0_items, steam_games, free_games=False)\n",
    "filtered_percentile_user_item = build_list(filtered_percentile_items, steam_games, free_games=False)\n",
    "full_user_item = build_list(full_aussie_items, steam_games, free_games=False)\n",
    "\n",
    "filtered_hours_user_item_df = build_df(filtered_hours_user_item)\n",
    "filtered_hours_0_user_item_df = build_df(filtered_hours_0_user_items)\n",
    "filtered_percentile_user_item_df = build_df(filtered_percentile_user_item)\n",
    "full_user_item_df = build_df(full_user_item)"
   ]
  },
  {
   "cell_type": "code",
   "execution_count": 18,
   "metadata": {},
   "outputs": [],
   "source": [
    "user_top_games = filter_top_n(full_user_item_df,1000)\n",
    "games = list_games(user_top_games)\n",
    "user_top_games_filtered_hours = filter_top_n_for_filtered(filtered_hours_user_item_df, games)\n",
    "user_top_games_filtered_hours_0 = filter_top_n_for_filtered(filtered_hours_0_user_item_df, games)\n",
    "user_top_games_filtered_percentile = filter_top_n_for_filtered(filtered_percentile_user_item_df, games)"
   ]
  },
  {
   "cell_type": "code",
   "execution_count": 19,
   "metadata": {},
   "outputs": [],
   "source": [
    "pkl.dump(user_top_games,open('../data/preprocessed_data/no_free_games/user_top_games.pkl', 'wb'))\n",
    "pkl.dump(user_top_games_filtered_hours,open('../data/preprocessed_data/no_free_games/user_top_games_filtered_hours.pkl', 'wb'))\n",
    "pkl.dump(user_top_games_filtered_hours_0,open('../data/preprocessed_data/no_free_games/user_top_games_filtered_hours_0.pkl', 'wb'))\n",
    "pkl.dump(user_top_games_filtered_percentile,open('../data/preprocessed_data/no_free_games/user_top_games_filtered_percentile.pkl', 'wb'))\n",
    "pkl.dump(games,open('../data/preprocessed_data/no_free_games/games.pkl', 'wb'))"
   ]
  },
  {
   "cell_type": "code",
   "execution_count": null,
   "metadata": {},
   "outputs": [],
   "source": []
  }
 ],
 "metadata": {
  "anaconda-cloud": {},
  "kernelspec": {
   "display_name": "Python 3 (ipykernel)",
   "language": "python",
   "name": "python3"
  },
  "language_info": {
   "codemirror_mode": {
    "name": "ipython",
    "version": 3
   },
   "file_extension": ".py",
   "mimetype": "text/x-python",
   "name": "python",
   "nbconvert_exporter": "python",
   "pygments_lexer": "ipython3",
   "version": "3.9.12"
  }
 },
 "nbformat": 4,
 "nbformat_minor": 2
}
